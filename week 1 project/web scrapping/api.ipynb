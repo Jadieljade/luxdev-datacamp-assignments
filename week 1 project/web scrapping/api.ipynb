{
 "cells": [
  {
   "cell_type": "code",
   "execution_count": 1,
   "id": "1d31030f",
   "metadata": {},
   "outputs": [
    {
     "name": "stdout",
     "output_type": "stream",
     "text": [
      "200\n"
     ]
    }
   ],
   "source": [
    "import requests\n",
    "\n",
    "\n",
    "response= requests.get('https://randomuser.me/api?results=100&gender=male')\n",
    "print(response.status_code)"
   ]
  },
  {
   "cell_type": "code",
   "execution_count": 2,
   "id": "e1f953ad",
   "metadata": {},
   "outputs": [],
   "source": [
    "data=response.json()\n",
    "users=data['results']\n",
    "\n"
   ]
  },
  {
   "cell_type": "code",
   "execution_count": 3,
   "id": "99c296ff",
   "metadata": {},
   "outputs": [
    {
     "name": "stdout",
     "output_type": "stream",
     "text": [
      "Ayhan Klompenhouwer\n",
      "Gremislav Burkovskiy\n",
      "Sander Christiansen\n",
      "Frederick Ramos\n",
      "Arnold Stöhr\n",
      "Julien Picard\n",
      "Wes Alkema\n",
      "Adem Akay\n",
      "Andrés Pulido\n",
      "Scott Sandland\n",
      "Gunbir Babu\n",
      "شایان سهيلي راد\n",
      "Tormod Fossli\n",
      "Arron Brooks\n",
      "Georgios Brunet\n",
      "Even Skagestad\n",
      "Porfir Babanskiy\n",
      "Maxime Claire\n",
      "Alevtin Shchasliviy\n",
      "Ladimir Lisovska\n",
      "Hjalmar Heldal\n",
      "Ryan Smith\n",
      "Dragoslav Rodić\n",
      "Travis Bishop\n",
      "بردیا موسوی\n",
      "Pedro Weide\n",
      "Maurício Moraes\n",
      "Abraham Körber\n",
      "Theo Singh\n",
      "آرتين سالاری\n",
      "Boleslav Kovalchuk\n",
      "Jordan Caron\n",
      "Milo Blanc\n",
      "Malthe Hansen\n",
      "Ilija Lemoine\n",
      "Nicolay Saeed\n",
      "Renee Balkema\n",
      "Harish Chatterjee\n",
      "Ohrim Stepoviy\n",
      "Blagovid Ostrovskiy\n",
      "Đuro Radivojević\n",
      "Víctor Esteban\n",
      "Filippo Chevalier\n",
      "Louis Roussel\n",
      "Nicolas Margaret\n",
      "Gerald Gröne\n",
      "Sobimir Konik\n",
      "Silvio Van Alebeek\n",
      "Roope Eskola\n",
      "Joshua Evans\n",
      "Harrison Robinson\n",
      "Edward Storsve\n",
      "Logan Miles\n",
      "Carmelo Ocasio\n",
      "Batur Gönültaş\n",
      "Jayden Wright\n",
      "Guillermo Vásquez\n",
      "Necati Küçükler\n",
      "Sinook Lepkalyuk\n",
      "Villads Thomsen\n",
      "Jacob Rivera\n",
      "Antoine Denys\n",
      "Riley Zhang\n",
      "Tyrone Shaw\n",
      "Enrique Rodríquez\n",
      "Benjamin Li\n",
      "Louis Ambrose\n",
      "Matthäus Weinreich\n",
      "Slavomir Litvinovich\n",
      "Luis Lozano\n",
      "Pedro Iglesias\n",
      "Max Anderson\n",
      "Fredy Essig\n",
      "Sebastian Møller\n",
      "Salem Pieternella\n",
      "آرسین سالاری\n",
      "Bogoljub Miljković\n",
      "Chaitanya Almeida\n",
      "Godefridus Blansjaar\n",
      "Rossano Almeida\n",
      "Bozhemir Brashchayko\n",
      "Daniel Johnson\n",
      "Guillermo Camarillo\n",
      "Zakariya Korneliussen\n",
      "Noah Madsen\n",
      "Rudan Bablyak\n",
      "Pablo Caron\n",
      "Janko Anđelić\n",
      "Jakub Øksendal\n",
      "Nathan Markhus\n",
      "Eric Johnston\n",
      "Ismael Gutiérrez\n",
      "Cooper Chen\n",
      "طاها صدر\n",
      "Harvey Williamson\n",
      "Darryl Marshall\n",
      "Grégoire Fontai\n",
      "Tomás Mireles\n",
      "Mohammad Lorentzen\n",
      "Leevi Kyllo\n"
     ]
    }
   ],
   "source": [
    "for user in users:\n",
    "    first_name=user['name']['first']\n",
    "    last_name=user['name']['last']\n",
    "    print(f'{first_name} {last_name}')\n"
   ]
  }
 ],
 "metadata": {
  "kernelspec": {
   "display_name": "Python 3 (ipykernel)",
   "language": "python",
   "name": "python3"
  },
  "language_info": {
   "codemirror_mode": {
    "name": "ipython",
    "version": 3
   },
   "file_extension": ".py",
   "mimetype": "text/x-python",
   "name": "python",
   "nbconvert_exporter": "python",
   "pygments_lexer": "ipython3",
   "version": "3.9.12"
  }
 },
 "nbformat": 4,
 "nbformat_minor": 5
}

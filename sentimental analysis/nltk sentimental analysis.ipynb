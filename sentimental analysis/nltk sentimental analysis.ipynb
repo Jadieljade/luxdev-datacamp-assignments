{
 "cells": [
  {
   "cell_type": "markdown",
   "id": "b7985162",
   "metadata": {},
   "source": [
    "This is the sentiment140 dataset. It contains 1,600,000 tweets extracted using the twitter api . The tweets have been annotated (0 = negative, 4 = positive) and they can be used to detect sentiment .\n",
    "\n",
    "Content\n",
    "It contains the following 6 fields:\n",
    "\n",
    "1.target: the polarity of the tweet (0 = negative, 2 = neutral, 4 = positive).1\n",
    "\n",
    "2.ids: The id of the tweet ( 2087)\n",
    "\n",
    "3.date: the date of the tweet (Sat May 16 23:58:44 UTC 2009)\n",
    "\n",
    "4.flag: The query (lyx). If there is no query, then this value is NO_QUERY.\n",
    "\n",
    "5.user: the user that tweeted (robotickilldozr)\n",
    "\n",
    "6.text: the text of the tweet (Lyx is cool)\n",
    "\n",
    "The data was taken from https://www.kaggle.com/datasets/kazanova/sentiment140?resource=download"
   ]
  },
  {
   "cell_type": "code",
   "execution_count": 3,
   "id": "6bdca1ed",
   "metadata": {},
   "outputs": [],
   "source": [
    "#let us first import all the necessary libraries.\n",
    "\n",
    "import pyforest\n",
    "import pandas as pd\n",
    "import numpy as np\n",
    "import re\n",
    "import nltk\n",
    "from sklearn.model_selection import train_test_split\n",
    "from sklearn.feature_extraction.text import CountVectorizer\n",
    "from sklearn.feature_extraction.text import TfidfTransformer\n",
    "from sklearn.naive_bayes import MultinomialNB\n",
    "from sklearn.metrics import accuracy_score"
   ]
  },
  {
   "cell_type": "code",
   "execution_count": 4,
   "id": "8840e054",
   "metadata": {},
   "outputs": [],
   "source": [
    "# Load the data\n",
    "df = pd.read_csv('training.1600000.processed.noemoticon.csv', header=None, encoding='latin-1', names=['target', 'id', 'date', 'flag', 'user', 'text'])\n"
   ]
  },
  {
   "cell_type": "code",
   "execution_count": 5,
   "id": "31b65069",
   "metadata": {},
   "outputs": [],
   "source": [
    "# Preprocess the data\n",
    "df = df.drop(['id', 'date', 'flag', 'user'], axis=1)\n",
    "df['text'] = df['text'].apply(lambda x: re.sub('[^a-zA-Z0-9\\s]', '', x))\n",
    "df['text'] = df['text'].apply(lambda x: x.lower())\n",
    "\n"
   ]
  },
  {
   "cell_type": "code",
   "execution_count": 6,
   "id": "f5680925",
   "metadata": {},
   "outputs": [],
   "source": [
    "# Split the data into training and testing sets\n",
    "X_train, X_test, y_train, y_test = train_test_split(df['text'], df['target'], test_size=0.2, random_state=42)\n",
    "\n"
   ]
  },
  {
   "cell_type": "code",
   "execution_count": 7,
   "id": "e50728de",
   "metadata": {},
   "outputs": [],
   "source": [
    "# Feature extraction\n",
    "count_vect = CountVectorizer()\n",
    "X_train_counts = count_vect.fit_transform(X_train)\n",
    "tfidf_transformer = TfidfTransformer()\n",
    "X_train_tfidf = tfidf_transformer.fit_transform(X_train_counts)"
   ]
  },
  {
   "cell_type": "code",
   "execution_count": 8,
   "id": "7b22ddbe",
   "metadata": {},
   "outputs": [],
   "source": [
    "# Train the model\n",
    "clf = MultinomialNB().fit(X_train_tfidf, y_train)\n"
   ]
  },
  {
   "cell_type": "code",
   "execution_count": 9,
   "id": "6822b866",
   "metadata": {},
   "outputs": [
    {
     "name": "stdout",
     "output_type": "stream",
     "text": [
      "Accuracy: 0.772028125\n"
     ]
    }
   ],
   "source": [
    "# Evaluate the model\n",
    "X_test_counts = count_vect.transform(X_test)\n",
    "X_test_tfidf = tfidf_transformer.transform(X_test_counts)\n",
    "y_pred = clf.predict(X_test_tfidf)\n",
    "accuracy = accuracy_score(y_test, y_pred)\n",
    "print('Accuracy:', accuracy)\n"
   ]
  },
  {
   "cell_type": "code",
   "execution_count": null,
   "id": "d0bafffb",
   "metadata": {},
   "outputs": [],
   "source": []
  }
 ],
 "metadata": {
  "kernelspec": {
   "display_name": "Python 3 (ipykernel)",
   "language": "python",
   "name": "python3"
  },
  "language_info": {
   "codemirror_mode": {
    "name": "ipython",
    "version": 3
   },
   "file_extension": ".py",
   "mimetype": "text/x-python",
   "name": "python",
   "nbconvert_exporter": "python",
   "pygments_lexer": "ipython3",
   "version": "3.9.12"
  }
 },
 "nbformat": 4,
 "nbformat_minor": 5
}
